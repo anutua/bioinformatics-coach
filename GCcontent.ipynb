{
 "cells": [
  {
   "cell_type": "code",
   "execution_count": 15,
   "metadata": {},
   "outputs": [],
   "source": [
    "from Bio import SeqIO\n",
    "from Bio.SeqUtils import GC\n",
    "import pandas as pd"
   ]
  },
  {
   "cell_type": "code",
   "execution_count": 7,
   "metadata": {},
   "outputs": [],
   "source": [
    "sequence_directory=\"D:/Anutua/Documents/waccbip/mycrobacterium.fasta\""
   ]
  },
  {
   "cell_type": "code",
   "execution_count": 9,
   "metadata": {},
   "outputs": [],
   "source": [
    "seq_object=SeqIO.read(sequence_directory,\"fasta\")\n",
    "sequence=seq_object.seq"
   ]
  },
  {
   "cell_type": "code",
   "execution_count": 10,
   "metadata": {},
   "outputs": [
    {
     "data": {
      "text/plain": [
       "5631606"
      ]
     },
     "execution_count": 10,
     "metadata": {},
     "output_type": "execute_result"
    }
   ],
   "source": [
    "len(sequence)"
   ]
  },
  {
   "cell_type": "code",
   "execution_count": 11,
   "metadata": {},
   "outputs": [
    {
     "name": "stdout",
     "output_type": "stream",
     "text": [
      "TTGACCAATGACCCCGGTTC\n"
     ]
    }
   ],
   "source": [
    "print (sequence[0:20])"
   ]
  },
  {
   "cell_type": "code",
   "execution_count": 13,
   "metadata": {},
   "outputs": [
    {
     "name": "stdout",
     "output_type": "stream",
     "text": [
      "65.47269109380166\n"
     ]
    }
   ],
   "source": [
    "gc_content=GC(sequence)\n",
    "print(gc_content)"
   ]
  },
  {
   "cell_type": "code",
   "execution_count": 14,
   "metadata": {},
   "outputs": [
    {
     "data": {
      "text/plain": [
       "45.45454545454545"
      ]
     },
     "execution_count": 14,
     "metadata": {},
     "output_type": "execute_result"
    }
   ],
   "source": [
    "customSequence=\"AAGGTTCACAG\"\n",
    "GC(customSequence)"
   ]
  },
  {
   "cell_type": "code",
   "execution_count": 17,
   "metadata": {},
   "outputs": [],
   "source": [
    "##multifasta file\n",
    "sequence2_directory=\"D:/Anutua/Documents/waccbip/multi-fasta.fasta.txt\""
   ]
  },
  {
   "cell_type": "code",
   "execution_count": 20,
   "metadata": {},
   "outputs": [],
   "source": [
    "seqobject2=SeqIO.parse(sequence2_directory,'fasta')\n",
    "sequences=[seq for seq in seqobject2]"
   ]
  },
  {
   "cell_type": "code",
   "execution_count": 21,
   "metadata": {},
   "outputs": [
    {
     "data": {
      "text/plain": [
       "3"
      ]
     },
     "execution_count": 21,
     "metadata": {},
     "output_type": "execute_result"
    }
   ],
   "source": [
    "len(sequences)"
   ]
  },
  {
   "cell_type": "code",
   "execution_count": 28,
   "metadata": {},
   "outputs": [
    {
     "name": "stdout",
     "output_type": "stream",
     "text": [
      "[SeqRecord(seq=Seq('AAGTAGGAATAADATATCTTATCATTATAGAAGGACACCTTCTGAATTTGCTTA...CTG', SingleLetterAlphabet()), id='SeqID_01', name='SeqID_01', description='SeqID_01', dbxrefs=[]), SeqRecord(seq=Seq('CAGTAAAGAGTGGAAAACACCGTCCGATCTACCAGATGTGATAGAGGTTGCCAG...ATC', SingleLetterAlphabet()), id='SeqID_02', name='SeqID_02', description='SeqID_02', dbxrefs=[]), SeqRecord(seq=Seq('CTTCAATTACCCTGCTGACGCATGCAGATGCATCGAAGGTAAAGCGATGAATTT...TTG', SingleLetterAlphabet()), id='SeqID_03', name='SeqID_03', description='SeqID_03', dbxrefs=[])]\n"
     ]
    }
   ],
   "source": [
    "print(sequences)\n"
   ]
  },
  {
   "cell_type": "code",
   "execution_count": 29,
   "metadata": {},
   "outputs": [
    {
     "data": {
      "text/plain": [
       "list"
      ]
     },
     "execution_count": 29,
     "metadata": {},
     "output_type": "execute_result"
    }
   ],
   "source": [
    "type(sequences)"
   ]
  },
  {
   "cell_type": "code",
   "execution_count": 37,
   "metadata": {},
   "outputs": [
    {
     "name": "stdout",
     "output_type": "stream",
     "text": [
      "ID: SeqID_01\n",
      "Name: SeqID_01\n",
      "Description: SeqID_01\n",
      "Number of features: 0\n",
      "Seq('AAGTAGGAATAADATATCTTATCATTATAGAAGGACACCTTCTGAATTTGCTTA...CTG', SingleLetterAlphabet())\n"
     ]
    }
   ],
   "source": [
    "##GC of just one to be sure the parsing happened\n",
    "print(sequences[0])"
   ]
  },
  {
   "cell_type": "code",
   "execution_count": 36,
   "metadata": {},
   "outputs": [
    {
     "data": {
      "text/plain": [
       "34.25925925925926"
      ]
     },
     "execution_count": 36,
     "metadata": {},
     "output_type": "execute_result"
    }
   ],
   "source": [
    "seq1=sequences[0].seq\n",
    "GC(seq1)"
   ]
  },
  {
   "cell_type": "code",
   "execution_count": 51,
   "metadata": {},
   "outputs": [
    {
     "name": "stdout",
     "output_type": "stream",
     "text": [
      "SeqID_01 34.26\n",
      "SeqID_02 34.21\n",
      "SeqID_03 40.91\n"
     ]
    }
   ],
   "source": [
    "#automate\n",
    "seq_ids=[]\n",
    "gc_contents=[]\n",
    "\n",
    "for seq in sequences:\n",
    "    seq_id=seq.id\n",
    "    sequence=seq.seq\n",
    "    gc_content=GC(sequence)\n",
    "    gc_content=round(gc_content,2)\n",
    "    \n",
    "    seq_ids.append(seq_id)\n",
    "    gc_contents.append(gc_content)\n",
    "    \n",
    "    print(seq_id,gc_content)"
   ]
  },
  {
   "cell_type": "code",
   "execution_count": 56,
   "metadata": {},
   "outputs": [
    {
     "name": "stdout",
     "output_type": "stream",
     "text": [
      "['SeqID_01', 'SeqID_02', 'SeqID_03']\n",
      "[34.26, 34.21, 40.91]\n"
     ]
    }
   ],
   "source": [
    "print(seq_ids)\n",
    "print(gc_contents)"
   ]
  },
  {
   "cell_type": "code",
   "execution_count": 64,
   "metadata": {},
   "outputs": [],
   "source": [
    "##store in dataframe\n",
    "df1=pd.DataFrame()\n",
    "df1[\"SequenceID\"]=seq_ids\n",
    "df1[\"GC content\"]=gc_contents"
   ]
  },
  {
   "cell_type": "code",
   "execution_count": 65,
   "metadata": {},
   "outputs": [
    {
     "name": "stdout",
     "output_type": "stream",
     "text": [
      "  SequenceID  GC content\n",
      "0   SeqID_01       34.26\n",
      "1   SeqID_02       34.21\n",
      "2   SeqID_03       40.91\n"
     ]
    }
   ],
   "source": [
    "print(df1)"
   ]
  },
  {
   "cell_type": "code",
   "execution_count": 66,
   "metadata": {},
   "outputs": [
    {
     "data": {
      "text/plain": [
       "(3, 2)"
      ]
     },
     "execution_count": 66,
     "metadata": {},
     "output_type": "execute_result"
    }
   ],
   "source": [
    "df1.shape"
   ]
  },
  {
   "cell_type": "code",
   "execution_count": 70,
   "metadata": {},
   "outputs": [],
   "source": [
    "df1.to_csv(\"D:/Anutua/Documents/waccbip/multifasta_GCcontents\")"
   ]
  },
  {
   "cell_type": "code",
   "execution_count": null,
   "metadata": {},
   "outputs": [],
   "source": []
  }
 ],
 "metadata": {
  "kernelspec": {
   "display_name": "Python 3",
   "language": "python",
   "name": "python3"
  },
  "language_info": {
   "codemirror_mode": {
    "name": "ipython",
    "version": 3
   },
   "file_extension": ".py",
   "mimetype": "text/x-python",
   "name": "python",
   "nbconvert_exporter": "python",
   "pygments_lexer": "ipython3",
   "version": "3.7.3"
  }
 },
 "nbformat": 4,
 "nbformat_minor": 4
}
