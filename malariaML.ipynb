{
 "cells": [
  {
   "cell_type": "code",
   "execution_count": 177,
   "metadata": {},
   "outputs": [],
   "source": [
    "import numpy as np\n",
    "import pandas as pd\n",
    "import matplotlib.pyplot as plt\n",
    "import seaborn as sns   #data visualization"
   ]
  },
  {
   "cell_type": "code",
   "execution_count": 178,
   "metadata": {},
   "outputs": [],
   "source": [
    "filepath=\"D:/Anutua/Documents/waccbip/malaria_clinical_data.csv\"\n",
    "malaria_df=pd.read_csv(filepath)"
   ]
  },
  {
   "cell_type": "code",
   "execution_count": 179,
   "metadata": {},
   "outputs": [
    {
     "data": {
      "text/plain": [
       "(2207, 34)"
      ]
     },
     "execution_count": 179,
     "metadata": {},
     "output_type": "execute_result"
    }
   ],
   "source": [
    "malaria_df.shape"
   ]
  },
  {
   "cell_type": "code",
   "execution_count": 180,
   "metadata": {},
   "outputs": [
    {
     "data": {
      "text/plain": [
       "Index(['SampleID', 'consent_given', 'location', 'Enrollment_Year', 'bednet',\n",
       "       'fever_symptom', 'temperature', 'Suspected_Organism',\n",
       "       'Suspected_infection', 'RDT', 'Blood_culture', 'Urine_culture',\n",
       "       'Taq_man_PCR', 'parasite_density', 'Microscopy', 'Laboratory_Results',\n",
       "       'Clinical_Diagnosis', 'wbc_count', 'rbc_count', 'hb_level',\n",
       "       'hematocrit', 'mean_cell_volume', 'mean_corp_hb', 'mean_cell_hb_conc',\n",
       "       'platelet_count', 'platelet_distr_width', 'mean_platelet_vl',\n",
       "       'neutrophils_percent', 'lymphocytes_percent', 'mixed_cells_percent',\n",
       "       'neutrophils_count', 'lymphocytes_count', 'mixed_cells_count',\n",
       "       'RBC_dist_width_Percent'],\n",
       "      dtype='object')"
      ]
     },
     "execution_count": 180,
     "metadata": {},
     "output_type": "execute_result"
    }
   ],
   "source": [
    "malaria_df.columns"
   ]
  },
  {
   "cell_type": "code",
   "execution_count": 181,
   "metadata": {},
   "outputs": [
    {
     "name": "stdout",
     "output_type": "stream",
     "text": [
      "<class 'pandas.core.frame.DataFrame'>\n",
      "RangeIndex: 2207 entries, 0 to 2206\n",
      "Data columns (total 34 columns):\n",
      " #   Column                  Non-Null Count  Dtype  \n",
      "---  ------                  --------------  -----  \n",
      " 0   SampleID                2207 non-null   object \n",
      " 1   consent_given           2207 non-null   object \n",
      " 2   location                2207 non-null   object \n",
      " 3   Enrollment_Year         2207 non-null   int64  \n",
      " 4   bednet                  1676 non-null   object \n",
      " 5   fever_symptom           2200 non-null   object \n",
      " 6   temperature             2197 non-null   float64\n",
      " 7   Suspected_Organism      2207 non-null   object \n",
      " 8   Suspected_infection     1569 non-null   object \n",
      " 9   RDT                     2065 non-null   object \n",
      " 10  Blood_culture           122 non-null    object \n",
      " 11  Urine_culture           112 non-null    object \n",
      " 12  Taq_man_PCR             176 non-null    object \n",
      " 13  parasite_density        2173 non-null   float64\n",
      " 14  Microscopy              2170 non-null   object \n",
      " 15  Laboratory_Results      2207 non-null   object \n",
      " 16  Clinical_Diagnosis      2207 non-null   object \n",
      " 17  wbc_count               2207 non-null   float64\n",
      " 18  rbc_count               2207 non-null   float64\n",
      " 19  hb_level                2207 non-null   float64\n",
      " 20  hematocrit              2207 non-null   float64\n",
      " 21  mean_cell_volume        2207 non-null   float64\n",
      " 22  mean_corp_hb            2204 non-null   float64\n",
      " 23  mean_cell_hb_conc       2205 non-null   float64\n",
      " 24  platelet_count          2198 non-null   float64\n",
      " 25  platelet_distr_width    2175 non-null   float64\n",
      " 26  mean_platelet_vl        2190 non-null   float64\n",
      " 27  neutrophils_percent     2207 non-null   float64\n",
      " 28  lymphocytes_percent     2207 non-null   float64\n",
      " 29  mixed_cells_percent     2207 non-null   float64\n",
      " 30  neutrophils_count       2195 non-null   float64\n",
      " 31  lymphocytes_count       2196 non-null   float64\n",
      " 32  mixed_cells_count       2196 non-null   float64\n",
      " 33  RBC_dist_width_Percent  2198 non-null   float64\n",
      "dtypes: float64(19), int64(1), object(14)\n",
      "memory usage: 586.4+ KB\n"
     ]
    }
   ],
   "source": [
    "malaria_df.info()"
   ]
  },
  {
   "cell_type": "code",
   "execution_count": 182,
   "metadata": {},
   "outputs": [],
   "source": [
    "subset=malaria_df.iloc[:,16:]"
   ]
  },
  {
   "cell_type": "code",
   "execution_count": 183,
   "metadata": {},
   "outputs": [
    {
     "data": {
      "text/plain": [
       "(2207, 18)"
      ]
     },
     "execution_count": 183,
     "metadata": {},
     "output_type": "execute_result"
    }
   ],
   "source": [
    "subset.shape"
   ]
  },
  {
   "cell_type": "code",
   "execution_count": 184,
   "metadata": {},
   "outputs": [
    {
     "name": "stdout",
     "output_type": "stream",
     "text": [
      "<class 'pandas.core.frame.DataFrame'>\n",
      "RangeIndex: 2207 entries, 0 to 2206\n",
      "Data columns (total 18 columns):\n",
      " #   Column                  Non-Null Count  Dtype  \n",
      "---  ------                  --------------  -----  \n",
      " 0   Clinical_Diagnosis      2207 non-null   object \n",
      " 1   wbc_count               2207 non-null   float64\n",
      " 2   rbc_count               2207 non-null   float64\n",
      " 3   hb_level                2207 non-null   float64\n",
      " 4   hematocrit              2207 non-null   float64\n",
      " 5   mean_cell_volume        2207 non-null   float64\n",
      " 6   mean_corp_hb            2204 non-null   float64\n",
      " 7   mean_cell_hb_conc       2205 non-null   float64\n",
      " 8   platelet_count          2198 non-null   float64\n",
      " 9   platelet_distr_width    2175 non-null   float64\n",
      " 10  mean_platelet_vl        2190 non-null   float64\n",
      " 11  neutrophils_percent     2207 non-null   float64\n",
      " 12  lymphocytes_percent     2207 non-null   float64\n",
      " 13  mixed_cells_percent     2207 non-null   float64\n",
      " 14  neutrophils_count       2195 non-null   float64\n",
      " 15  lymphocytes_count       2196 non-null   float64\n",
      " 16  mixed_cells_count       2196 non-null   float64\n",
      " 17  RBC_dist_width_Percent  2198 non-null   float64\n",
      "dtypes: float64(17), object(1)\n",
      "memory usage: 310.5+ KB\n"
     ]
    }
   ],
   "source": [
    "subset.info()"
   ]
  },
  {
   "cell_type": "code",
   "execution_count": 185,
   "metadata": {},
   "outputs": [],
   "source": [
    "subset.dropna(inplace=True)"
   ]
  },
  {
   "cell_type": "code",
   "execution_count": 186,
   "metadata": {},
   "outputs": [
    {
     "data": {
      "text/plain": [
       "(2156, 18)"
      ]
     },
     "execution_count": 186,
     "metadata": {},
     "output_type": "execute_result"
    }
   ],
   "source": [
    "subset.shape"
   ]
  },
  {
   "cell_type": "code",
   "execution_count": 187,
   "metadata": {},
   "outputs": [
    {
     "data": {
      "text/html": [
       "<div>\n",
       "<style scoped>\n",
       "    .dataframe tbody tr th:only-of-type {\n",
       "        vertical-align: middle;\n",
       "    }\n",
       "\n",
       "    .dataframe tbody tr th {\n",
       "        vertical-align: top;\n",
       "    }\n",
       "\n",
       "    .dataframe thead th {\n",
       "        text-align: right;\n",
       "    }\n",
       "</style>\n",
       "<table border=\"1\" class=\"dataframe\">\n",
       "  <thead>\n",
       "    <tr style=\"text-align: right;\">\n",
       "      <th></th>\n",
       "      <th>Clinical_Diagnosis</th>\n",
       "      <th>wbc_count</th>\n",
       "      <th>rbc_count</th>\n",
       "      <th>hb_level</th>\n",
       "      <th>hematocrit</th>\n",
       "      <th>mean_cell_volume</th>\n",
       "      <th>mean_corp_hb</th>\n",
       "      <th>mean_cell_hb_conc</th>\n",
       "      <th>platelet_count</th>\n",
       "      <th>platelet_distr_width</th>\n",
       "      <th>mean_platelet_vl</th>\n",
       "      <th>neutrophils_percent</th>\n",
       "      <th>lymphocytes_percent</th>\n",
       "      <th>mixed_cells_percent</th>\n",
       "      <th>neutrophils_count</th>\n",
       "      <th>lymphocytes_count</th>\n",
       "      <th>mixed_cells_count</th>\n",
       "      <th>RBC_dist_width_Percent</th>\n",
       "    </tr>\n",
       "  </thead>\n",
       "  <tbody>\n",
       "    <tr>\n",
       "      <th>0</th>\n",
       "      <td>Severe Malaria</td>\n",
       "      <td>5.7</td>\n",
       "      <td>2.8</td>\n",
       "      <td>5.8</td>\n",
       "      <td>16.1</td>\n",
       "      <td>59.0</td>\n",
       "      <td>21.1</td>\n",
       "      <td>36.0</td>\n",
       "      <td>156.0</td>\n",
       "      <td>8.2</td>\n",
       "      <td>6.8</td>\n",
       "      <td>61.8</td>\n",
       "      <td>31.7</td>\n",
       "      <td>6.5</td>\n",
       "      <td>3.6</td>\n",
       "      <td>1.8</td>\n",
       "      <td>0.3</td>\n",
       "      <td>19.0</td>\n",
       "    </tr>\n",
       "    <tr>\n",
       "      <th>1</th>\n",
       "      <td>Severe Malaria</td>\n",
       "      <td>7.8</td>\n",
       "      <td>3.5</td>\n",
       "      <td>9.2</td>\n",
       "      <td>24.2</td>\n",
       "      <td>70.0</td>\n",
       "      <td>26.4</td>\n",
       "      <td>37.8</td>\n",
       "      <td>55.0</td>\n",
       "      <td>16.5</td>\n",
       "      <td>7.6</td>\n",
       "      <td>68.5</td>\n",
       "      <td>23.6</td>\n",
       "      <td>7.9</td>\n",
       "      <td>5.4</td>\n",
       "      <td>1.8</td>\n",
       "      <td>0.6</td>\n",
       "      <td>14.4</td>\n",
       "    </tr>\n",
       "    <tr>\n",
       "      <th>2</th>\n",
       "      <td>Severe Malaria</td>\n",
       "      <td>8.2</td>\n",
       "      <td>1.0</td>\n",
       "      <td>2.3</td>\n",
       "      <td>5.7</td>\n",
       "      <td>59.0</td>\n",
       "      <td>23.8</td>\n",
       "      <td>40.4</td>\n",
       "      <td>20.0</td>\n",
       "      <td>2.3</td>\n",
       "      <td>5.9</td>\n",
       "      <td>32.8</td>\n",
       "      <td>53.3</td>\n",
       "      <td>13.9</td>\n",
       "      <td>2.8</td>\n",
       "      <td>4.3</td>\n",
       "      <td>1.1</td>\n",
       "      <td>18.0</td>\n",
       "    </tr>\n",
       "    <tr>\n",
       "      <th>3</th>\n",
       "      <td>Severe Malaria</td>\n",
       "      <td>15.9</td>\n",
       "      <td>3.3</td>\n",
       "      <td>10.1</td>\n",
       "      <td>25.1</td>\n",
       "      <td>75.0</td>\n",
       "      <td>30.2</td>\n",
       "      <td>40.2</td>\n",
       "      <td>132.0</td>\n",
       "      <td>17.2</td>\n",
       "      <td>6.2</td>\n",
       "      <td>82.6</td>\n",
       "      <td>11.5</td>\n",
       "      <td>5.9</td>\n",
       "      <td>13.2</td>\n",
       "      <td>1.8</td>\n",
       "      <td>0.9</td>\n",
       "      <td>13.7</td>\n",
       "    </tr>\n",
       "    <tr>\n",
       "      <th>4</th>\n",
       "      <td>Severe Malaria</td>\n",
       "      <td>4.5</td>\n",
       "      <td>2.1</td>\n",
       "      <td>5.7</td>\n",
       "      <td>16.1</td>\n",
       "      <td>78.0</td>\n",
       "      <td>27.1</td>\n",
       "      <td>35.4</td>\n",
       "      <td>85.0</td>\n",
       "      <td>16.1</td>\n",
       "      <td>6.8</td>\n",
       "      <td>83.7</td>\n",
       "      <td>11.3</td>\n",
       "      <td>5.0</td>\n",
       "      <td>3.8</td>\n",
       "      <td>0.5</td>\n",
       "      <td>0.2</td>\n",
       "      <td>15.0</td>\n",
       "    </tr>\n",
       "  </tbody>\n",
       "</table>\n",
       "</div>"
      ],
      "text/plain": [
       "  Clinical_Diagnosis  wbc_count  rbc_count  hb_level  hematocrit  \\\n",
       "0     Severe Malaria        5.7        2.8       5.8        16.1   \n",
       "1     Severe Malaria        7.8        3.5       9.2        24.2   \n",
       "2     Severe Malaria        8.2        1.0       2.3         5.7   \n",
       "3     Severe Malaria       15.9        3.3      10.1        25.1   \n",
       "4     Severe Malaria        4.5        2.1       5.7        16.1   \n",
       "\n",
       "   mean_cell_volume  mean_corp_hb  mean_cell_hb_conc  platelet_count  \\\n",
       "0              59.0          21.1               36.0           156.0   \n",
       "1              70.0          26.4               37.8            55.0   \n",
       "2              59.0          23.8               40.4            20.0   \n",
       "3              75.0          30.2               40.2           132.0   \n",
       "4              78.0          27.1               35.4            85.0   \n",
       "\n",
       "   platelet_distr_width  mean_platelet_vl  neutrophils_percent  \\\n",
       "0                   8.2               6.8                 61.8   \n",
       "1                  16.5               7.6                 68.5   \n",
       "2                   2.3               5.9                 32.8   \n",
       "3                  17.2               6.2                 82.6   \n",
       "4                  16.1               6.8                 83.7   \n",
       "\n",
       "   lymphocytes_percent  mixed_cells_percent  neutrophils_count  \\\n",
       "0                 31.7                  6.5                3.6   \n",
       "1                 23.6                  7.9                5.4   \n",
       "2                 53.3                 13.9                2.8   \n",
       "3                 11.5                  5.9               13.2   \n",
       "4                 11.3                  5.0                3.8   \n",
       "\n",
       "   lymphocytes_count  mixed_cells_count  RBC_dist_width_Percent  \n",
       "0                1.8                0.3                    19.0  \n",
       "1                1.8                0.6                    14.4  \n",
       "2                4.3                1.1                    18.0  \n",
       "3                1.8                0.9                    13.7  \n",
       "4                0.5                0.2                    15.0  "
      ]
     },
     "execution_count": 187,
     "metadata": {},
     "output_type": "execute_result"
    }
   ],
   "source": [
    "subset.head()"
   ]
  },
  {
   "cell_type": "code",
   "execution_count": 188,
   "metadata": {},
   "outputs": [],
   "source": [
    "labels=pd.Categorical(subset.iloc[:,0])"
   ]
  },
  {
   "cell_type": "code",
   "execution_count": 189,
   "metadata": {},
   "outputs": [
    {
     "data": {
      "text/plain": [
       "['Severe Malaria', 'Severe Malaria', 'Severe Malaria', 'Severe Malaria', 'Severe Malaria', ..., 'Uncomplicated Malaria', 'Non-malaria Infection', 'Non-malaria Infection', 'Non-malaria Infection', 'Non-malaria Infection']\n",
       "Length: 2156\n",
       "Categories (3, object): ['Non-malaria Infection', 'Severe Malaria', 'Uncomplicated Malaria']"
      ]
     },
     "execution_count": 189,
     "metadata": {},
     "output_type": "execute_result"
    }
   ],
   "source": [
    "labels"
   ]
  },
  {
   "cell_type": "code",
   "execution_count": 190,
   "metadata": {},
   "outputs": [],
   "source": [
    "# labels=pd.Categorical(subset[\"Clinical_Diagnosis\"])\n",
    "# labels"
   ]
  },
  {
   "cell_type": "code",
   "execution_count": 191,
   "metadata": {},
   "outputs": [],
   "source": [
    "##class distribution\n"
   ]
  },
  {
   "cell_type": "code",
   "execution_count": 192,
   "metadata": {},
   "outputs": [
    {
     "data": {
      "text/plain": [
       "pandas.core.frame.DataFrame"
      ]
     },
     "execution_count": 192,
     "metadata": {},
     "output_type": "execute_result"
    }
   ],
   "source": [
    "type(subset)"
   ]
  },
  {
   "cell_type": "code",
   "execution_count": 193,
   "metadata": {},
   "outputs": [
    {
     "data": {
      "text/plain": [
       "Non-malaria Infection    966\n",
       "Uncomplicated Malaria    702\n",
       "Severe Malaria           488\n",
       "Name: Clinical_Diagnosis, dtype: int64"
      ]
     },
     "execution_count": 193,
     "metadata": {},
     "output_type": "execute_result"
    }
   ],
   "source": [
    "subset['Clinical_Diagnosis'].value_counts()"
   ]
  },
  {
   "cell_type": "code",
   "execution_count": 194,
   "metadata": {},
   "outputs": [
    {
     "data": {
      "text/plain": [
       "(2156, 18)"
      ]
     },
     "execution_count": 194,
     "metadata": {},
     "output_type": "execute_result"
    }
   ],
   "source": [
    "subset.shape"
   ]
  },
  {
   "cell_type": "code",
   "execution_count": 195,
   "metadata": {},
   "outputs": [
    {
     "data": {
      "text/plain": [
       "<AxesSubplot:>"
      ]
     },
     "execution_count": 195,
     "metadata": {},
     "output_type": "execute_result"
    },
    {
     "data": {
      "image/png": "[encoded data removed]",
      "text/plain": [
       "<Figure size 432x288 with 1 Axes>"
      ]
     },
     "metadata": {
      "needs_background": "light"
     },
     "output_type": "display_data"
    }
   ],
   "source": [
    "subset['Clinical_Diagnosis'].value_counts().plot.bar()"
   ]
  },
  {
   "cell_type": "code",
   "execution_count": 196,
   "metadata": {},
   "outputs": [
    {
     "data": {
      "text/html": [
       "<div>\n",
       "<style scoped>\n",
       "    .dataframe tbody tr th:only-of-type {\n",
       "        vertical-align: middle;\n",
       "    }\n",
       "\n",
       "    .dataframe tbody tr th {\n",
       "        vertical-align: top;\n",
       "    }\n",
       "\n",
       "    .dataframe thead th {\n",
       "        text-align: right;\n",
       "    }\n",
       "</style>\n",
       "<table border=\"1\" class=\"dataframe\">\n",
       "  <thead>\n",
       "    <tr style=\"text-align: right;\">\n",
       "      <th></th>\n",
       "      <th>count</th>\n",
       "      <th>mean</th>\n",
       "      <th>std</th>\n",
       "      <th>min</th>\n",
       "      <th>25%</th>\n",
       "      <th>50%</th>\n",
       "      <th>75%</th>\n",
       "      <th>max</th>\n",
       "    </tr>\n",
       "  </thead>\n",
       "  <tbody>\n",
       "    <tr>\n",
       "      <th>wbc_count</th>\n",
       "      <td>2156.0</td>\n",
       "      <td>10.723516</td>\n",
       "      <td>5.944994</td>\n",
       "      <td>0.5</td>\n",
       "      <td>6.80</td>\n",
       "      <td>9.30</td>\n",
       "      <td>12.900</td>\n",
       "      <td>53.90</td>\n",
       "    </tr>\n",
       "    <tr>\n",
       "      <th>rbc_count</th>\n",
       "      <td>2156.0</td>\n",
       "      <td>3.911679</td>\n",
       "      <td>1.132454</td>\n",
       "      <td>0.5</td>\n",
       "      <td>3.34</td>\n",
       "      <td>4.17</td>\n",
       "      <td>4.650</td>\n",
       "      <td>6.67</td>\n",
       "    </tr>\n",
       "    <tr>\n",
       "      <th>hb_level</th>\n",
       "      <td>2156.0</td>\n",
       "      <td>9.423010</td>\n",
       "      <td>2.650261</td>\n",
       "      <td>1.4</td>\n",
       "      <td>7.90</td>\n",
       "      <td>10.20</td>\n",
       "      <td>11.325</td>\n",
       "      <td>18.70</td>\n",
       "    </tr>\n",
       "    <tr>\n",
       "      <th>hematocrit</th>\n",
       "      <td>2156.0</td>\n",
       "      <td>29.320223</td>\n",
       "      <td>8.802975</td>\n",
       "      <td>4.3</td>\n",
       "      <td>24.20</td>\n",
       "      <td>31.70</td>\n",
       "      <td>35.500</td>\n",
       "      <td>52.70</td>\n",
       "    </tr>\n",
       "    <tr>\n",
       "      <th>mean_cell_volume</th>\n",
       "      <td>2156.0</td>\n",
       "      <td>74.828256</td>\n",
       "      <td>8.046383</td>\n",
       "      <td>7.8</td>\n",
       "      <td>70.00</td>\n",
       "      <td>75.00</td>\n",
       "      <td>80.000</td>\n",
       "      <td>121.00</td>\n",
       "    </tr>\n",
       "    <tr>\n",
       "      <th>mean_corp_hb</th>\n",
       "      <td>2156.0</td>\n",
       "      <td>24.142189</td>\n",
       "      <td>3.203595</td>\n",
       "      <td>2.1</td>\n",
       "      <td>22.20</td>\n",
       "      <td>24.10</td>\n",
       "      <td>26.200</td>\n",
       "      <td>38.80</td>\n",
       "    </tr>\n",
       "    <tr>\n",
       "      <th>mean_cell_hb_conc</th>\n",
       "      <td>2156.0</td>\n",
       "      <td>32.259318</td>\n",
       "      <td>2.864637</td>\n",
       "      <td>15.7</td>\n",
       "      <td>30.60</td>\n",
       "      <td>32.10</td>\n",
       "      <td>33.425</td>\n",
       "      <td>46.60</td>\n",
       "    </tr>\n",
       "    <tr>\n",
       "      <th>platelet_count</th>\n",
       "      <td>2156.0</td>\n",
       "      <td>214.545176</td>\n",
       "      <td>128.697718</td>\n",
       "      <td>3.0</td>\n",
       "      <td>105.00</td>\n",
       "      <td>201.00</td>\n",
       "      <td>300.250</td>\n",
       "      <td>1087.00</td>\n",
       "    </tr>\n",
       "    <tr>\n",
       "      <th>platelet_distr_width</th>\n",
       "      <td>2156.0</td>\n",
       "      <td>14.137894</td>\n",
       "      <td>3.064643</td>\n",
       "      <td>0.0</td>\n",
       "      <td>12.90</td>\n",
       "      <td>14.90</td>\n",
       "      <td>15.600</td>\n",
       "      <td>23.90</td>\n",
       "    </tr>\n",
       "    <tr>\n",
       "      <th>mean_platelet_vl</th>\n",
       "      <td>2156.0</td>\n",
       "      <td>8.031447</td>\n",
       "      <td>1.194886</td>\n",
       "      <td>3.3</td>\n",
       "      <td>7.20</td>\n",
       "      <td>7.90</td>\n",
       "      <td>8.800</td>\n",
       "      <td>18.60</td>\n",
       "    </tr>\n",
       "    <tr>\n",
       "      <th>neutrophils_percent</th>\n",
       "      <td>2156.0</td>\n",
       "      <td>58.623006</td>\n",
       "      <td>16.613445</td>\n",
       "      <td>9.3</td>\n",
       "      <td>46.00</td>\n",
       "      <td>59.40</td>\n",
       "      <td>72.200</td>\n",
       "      <td>93.30</td>\n",
       "    </tr>\n",
       "    <tr>\n",
       "      <th>lymphocytes_percent</th>\n",
       "      <td>2156.0</td>\n",
       "      <td>33.014842</td>\n",
       "      <td>14.970647</td>\n",
       "      <td>3.8</td>\n",
       "      <td>20.60</td>\n",
       "      <td>31.70</td>\n",
       "      <td>44.200</td>\n",
       "      <td>81.50</td>\n",
       "    </tr>\n",
       "    <tr>\n",
       "      <th>mixed_cells_percent</th>\n",
       "      <td>2156.0</td>\n",
       "      <td>8.362199</td>\n",
       "      <td>3.436953</td>\n",
       "      <td>0.3</td>\n",
       "      <td>5.80</td>\n",
       "      <td>8.00</td>\n",
       "      <td>10.600</td>\n",
       "      <td>27.30</td>\n",
       "    </tr>\n",
       "    <tr>\n",
       "      <th>neutrophils_count</th>\n",
       "      <td>2156.0</td>\n",
       "      <td>6.440802</td>\n",
       "      <td>4.268695</td>\n",
       "      <td>0.1</td>\n",
       "      <td>3.60</td>\n",
       "      <td>5.40</td>\n",
       "      <td>8.000</td>\n",
       "      <td>42.00</td>\n",
       "    </tr>\n",
       "    <tr>\n",
       "      <th>lymphocytes_count</th>\n",
       "      <td>2156.0</td>\n",
       "      <td>3.430728</td>\n",
       "      <td>2.534383</td>\n",
       "      <td>0.3</td>\n",
       "      <td>1.70</td>\n",
       "      <td>2.80</td>\n",
       "      <td>4.400</td>\n",
       "      <td>28.10</td>\n",
       "    </tr>\n",
       "    <tr>\n",
       "      <th>mixed_cells_count</th>\n",
       "      <td>2156.0</td>\n",
       "      <td>0.851981</td>\n",
       "      <td>0.635395</td>\n",
       "      <td>0.0</td>\n",
       "      <td>0.40</td>\n",
       "      <td>0.70</td>\n",
       "      <td>1.100</td>\n",
       "      <td>5.60</td>\n",
       "    </tr>\n",
       "    <tr>\n",
       "      <th>RBC_dist_width_Percent</th>\n",
       "      <td>2156.0</td>\n",
       "      <td>16.333808</td>\n",
       "      <td>2.590446</td>\n",
       "      <td>10.6</td>\n",
       "      <td>14.50</td>\n",
       "      <td>15.80</td>\n",
       "      <td>17.600</td>\n",
       "      <td>29.00</td>\n",
       "    </tr>\n",
       "  </tbody>\n",
       "</table>\n",
       "</div>"
      ],
      "text/plain": [
       "                         count        mean         std   min     25%     50%  \\\n",
       "wbc_count               2156.0   10.723516    5.944994   0.5    6.80    9.30   \n",
       "rbc_count               2156.0    3.911679    1.132454   0.5    3.34    4.17   \n",
       "hb_level                2156.0    9.423010    2.650261   1.4    7.90   10.20   \n",
       "hematocrit              2156.0   29.320223    8.802975   4.3   24.20   31.70   \n",
       "mean_cell_volume        2156.0   74.828256    8.046383   7.8   70.00   75.00   \n",
       "mean_corp_hb            2156.0   24.142189    3.203595   2.1   22.20   24.10   \n",
       "mean_cell_hb_conc       2156.0   32.259318    2.864637  15.7   30.60   32.10   \n",
       "platelet_count          2156.0  214.545176  128.697718   3.0  105.00  201.00   \n",
       "platelet_distr_width    2156.0   14.137894    3.064643   0.0   12.90   14.90   \n",
       "mean_platelet_vl        2156.0    8.031447    1.194886   3.3    7.20    7.90   \n",
       "neutrophils_percent     2156.0   58.623006   16.613445   9.3   46.00   59.40   \n",
       "lymphocytes_percent     2156.0   33.014842   14.970647   3.8   20.60   31.70   \n",
       "mixed_cells_percent     2156.0    8.362199    3.436953   0.3    5.80    8.00   \n",
       "neutrophils_count       2156.0    6.440802    4.268695   0.1    3.60    5.40   \n",
       "lymphocytes_count       2156.0    3.430728    2.534383   0.3    1.70    2.80   \n",
       "mixed_cells_count       2156.0    0.851981    0.635395   0.0    0.40    0.70   \n",
       "RBC_dist_width_Percent  2156.0   16.333808    2.590446  10.6   14.50   15.80   \n",
       "\n",
       "                            75%      max  \n",
       "wbc_count                12.900    53.90  \n",
       "rbc_count                 4.650     6.67  \n",
       "hb_level                 11.325    18.70  \n",
       "hematocrit               35.500    52.70  \n",
       "mean_cell_volume         80.000   121.00  \n",
       "mean_corp_hb             26.200    38.80  \n",
       "mean_cell_hb_conc        33.425    46.60  \n",
       "platelet_count          300.250  1087.00  \n",
       "platelet_distr_width     15.600    23.90  \n",
       "mean_platelet_vl          8.800    18.60  \n",
       "neutrophils_percent      72.200    93.30  \n",
       "lymphocytes_percent      44.200    81.50  \n",
       "mixed_cells_percent      10.600    27.30  \n",
       "neutrophils_count         8.000    42.00  \n",
       "lymphocytes_count         4.400    28.10  \n",
       "mixed_cells_count         1.100     5.60  \n",
       "RBC_dist_width_Percent   17.600    29.00  "
      ]
     },
     "execution_count": 196,
     "metadata": {},
     "output_type": "execute_result"
    }
   ],
   "source": [
    "#descriptive statistics\n",
    "subset.iloc[:,1:].describe().transpose()"
   ]
  },
  {
   "cell_type": "code",
   "execution_count": 197,
   "metadata": {},
   "outputs": [
    {
     "data": {
      "text/html": [
       "<div>\n",
       "<style scoped>\n",
       "    .dataframe tbody tr th:only-of-type {\n",
       "        vertical-align: middle;\n",
       "    }\n",
       "\n",
       "    .dataframe tbody tr th {\n",
       "        vertical-align: top;\n",
       "    }\n",
       "\n",
       "    .dataframe thead th {\n",
       "        text-align: right;\n",
       "    }\n",
       "</style>\n",
       "<table border=\"1\" class=\"dataframe\">\n",
       "  <thead>\n",
       "    <tr style=\"text-align: right;\">\n",
       "      <th></th>\n",
       "      <th>wbc_count</th>\n",
       "      <th>rbc_count</th>\n",
       "      <th>hb_level</th>\n",
       "      <th>hematocrit</th>\n",
       "      <th>mean_cell_volume</th>\n",
       "      <th>mean_corp_hb</th>\n",
       "      <th>mean_cell_hb_conc</th>\n",
       "      <th>platelet_count</th>\n",
       "      <th>platelet_distr_width</th>\n",
       "      <th>mean_platelet_vl</th>\n",
       "      <th>neutrophils_percent</th>\n",
       "      <th>lymphocytes_percent</th>\n",
       "      <th>mixed_cells_percent</th>\n",
       "      <th>neutrophils_count</th>\n",
       "      <th>lymphocytes_count</th>\n",
       "      <th>mixed_cells_count</th>\n",
       "      <th>RBC_dist_width_Percent</th>\n",
       "    </tr>\n",
       "  </thead>\n",
       "  <tbody>\n",
       "    <tr>\n",
       "      <th>wbc_count</th>\n",
       "      <td>1.000000</td>\n",
       "      <td>-0.217584</td>\n",
       "      <td>-0.283881</td>\n",
       "      <td>-0.261736</td>\n",
       "      <td>-0.150900</td>\n",
       "      <td>-0.084770</td>\n",
       "      <td>0.066981</td>\n",
       "      <td>0.122330</td>\n",
       "      <td>0.022260</td>\n",
       "      <td>-0.100716</td>\n",
       "      <td>0.093870</td>\n",
       "      <td>-0.090940</td>\n",
       "      <td>-0.057664</td>\n",
       "      <td>0.876999</td>\n",
       "      <td>0.689196</td>\n",
       "      <td>0.715568</td>\n",
       "      <td>0.252208</td>\n",
       "    </tr>\n",
       "    <tr>\n",
       "      <th>rbc_count</th>\n",
       "      <td>-0.217584</td>\n",
       "      <td>1.000000</td>\n",
       "      <td>0.896557</td>\n",
       "      <td>0.922294</td>\n",
       "      <td>-0.017848</td>\n",
       "      <td>-0.348335</td>\n",
       "      <td>-0.497615</td>\n",
       "      <td>0.409424</td>\n",
       "      <td>0.001756</td>\n",
       "      <td>0.284809</td>\n",
       "      <td>0.077574</td>\n",
       "      <td>-0.073216</td>\n",
       "      <td>-0.056070</td>\n",
       "      <td>-0.134216</td>\n",
       "      <td>-0.233978</td>\n",
       "      <td>-0.200859</td>\n",
       "      <td>-0.364396</td>\n",
       "    </tr>\n",
       "    <tr>\n",
       "      <th>hb_level</th>\n",
       "      <td>-0.283881</td>\n",
       "      <td>0.896557</td>\n",
       "      <td>1.000000</td>\n",
       "      <td>0.968644</td>\n",
       "      <td>0.286931</td>\n",
       "      <td>0.023659</td>\n",
       "      <td>-0.302304</td>\n",
       "      <td>0.353828</td>\n",
       "      <td>0.068770</td>\n",
       "      <td>0.248323</td>\n",
       "      <td>0.162289</td>\n",
       "      <td>-0.158665</td>\n",
       "      <td>-0.093352</td>\n",
       "      <td>-0.153907</td>\n",
       "      <td>-0.338160</td>\n",
       "      <td>-0.273327</td>\n",
       "      <td>-0.562710</td>\n",
       "    </tr>\n",
       "    <tr>\n",
       "      <th>hematocrit</th>\n",
       "      <td>-0.261736</td>\n",
       "      <td>0.922294</td>\n",
       "      <td>0.968644</td>\n",
       "      <td>1.000000</td>\n",
       "      <td>0.279029</td>\n",
       "      <td>-0.101461</td>\n",
       "      <td>-0.479766</td>\n",
       "      <td>0.387830</td>\n",
       "      <td>0.091718</td>\n",
       "      <td>0.285169</td>\n",
       "      <td>0.119252</td>\n",
       "      <td>-0.113198</td>\n",
       "      <td>-0.083365</td>\n",
       "      <td>-0.152236</td>\n",
       "      <td>-0.294044</td>\n",
       "      <td>-0.253324</td>\n",
       "      <td>-0.510445</td>\n",
       "    </tr>\n",
       "    <tr>\n",
       "      <th>mean_cell_volume</th>\n",
       "      <td>-0.150900</td>\n",
       "      <td>-0.017848</td>\n",
       "      <td>0.286931</td>\n",
       "      <td>0.279029</td>\n",
       "      <td>1.000000</td>\n",
       "      <td>0.722231</td>\n",
       "      <td>-0.077781</td>\n",
       "      <td>-0.002473</td>\n",
       "      <td>0.268485</td>\n",
       "      <td>0.038404</td>\n",
       "      <td>0.094697</td>\n",
       "      <td>-0.079596</td>\n",
       "      <td>-0.111013</td>\n",
       "      <td>-0.080385</td>\n",
       "      <td>-0.168477</td>\n",
       "      <td>-0.199845</td>\n",
       "      <td>-0.413033</td>\n",
       "    </tr>\n",
       "    <tr>\n",
       "      <th>mean_corp_hb</th>\n",
       "      <td>-0.084770</td>\n",
       "      <td>-0.348335</td>\n",
       "      <td>0.023659</td>\n",
       "      <td>-0.101461</td>\n",
       "      <td>0.722231</td>\n",
       "      <td>1.000000</td>\n",
       "      <td>0.576017</td>\n",
       "      <td>-0.202177</td>\n",
       "      <td>0.094658</td>\n",
       "      <td>-0.189324</td>\n",
       "      <td>0.149581</td>\n",
       "      <td>-0.151628</td>\n",
       "      <td>-0.062552</td>\n",
       "      <td>-0.011729</td>\n",
       "      <td>-0.152329</td>\n",
       "      <td>-0.106754</td>\n",
       "      <td>-0.334053</td>\n",
       "    </tr>\n",
       "    <tr>\n",
       "      <th>mean_cell_hb_conc</th>\n",
       "      <td>0.066981</td>\n",
       "      <td>-0.497615</td>\n",
       "      <td>-0.302304</td>\n",
       "      <td>-0.479766</td>\n",
       "      <td>-0.077781</td>\n",
       "      <td>0.576017</td>\n",
       "      <td>1.000000</td>\n",
       "      <td>-0.310377</td>\n",
       "      <td>-0.187634</td>\n",
       "      <td>-0.329254</td>\n",
       "      <td>0.110667</td>\n",
       "      <td>-0.132823</td>\n",
       "      <td>0.043621</td>\n",
       "      <td>0.089524</td>\n",
       "      <td>-0.016254</td>\n",
       "      <td>0.090089</td>\n",
       "      <td>-0.013497</td>\n",
       "    </tr>\n",
       "    <tr>\n",
       "      <th>platelet_count</th>\n",
       "      <td>0.122330</td>\n",
       "      <td>0.409424</td>\n",
       "      <td>0.353828</td>\n",
       "      <td>0.387830</td>\n",
       "      <td>-0.002473</td>\n",
       "      <td>-0.202177</td>\n",
       "      <td>-0.310377</td>\n",
       "      <td>1.000000</td>\n",
       "      <td>0.070121</td>\n",
       "      <td>-0.036139</td>\n",
       "      <td>-0.056902</td>\n",
       "      <td>0.042694</td>\n",
       "      <td>0.089093</td>\n",
       "      <td>0.102714</td>\n",
       "      <td>0.078041</td>\n",
       "      <td>0.143232</td>\n",
       "      <td>-0.104004</td>\n",
       "    </tr>\n",
       "    <tr>\n",
       "      <th>platelet_distr_width</th>\n",
       "      <td>0.022260</td>\n",
       "      <td>0.001756</td>\n",
       "      <td>0.068770</td>\n",
       "      <td>0.091718</td>\n",
       "      <td>0.268485</td>\n",
       "      <td>0.094658</td>\n",
       "      <td>-0.187634</td>\n",
       "      <td>0.070121</td>\n",
       "      <td>1.000000</td>\n",
       "      <td>0.233941</td>\n",
       "      <td>0.001142</td>\n",
       "      <td>0.018399</td>\n",
       "      <td>-0.085652</td>\n",
       "      <td>0.015390</td>\n",
       "      <td>0.037808</td>\n",
       "      <td>-0.045928</td>\n",
       "      <td>-0.087467</td>\n",
       "    </tr>\n",
       "    <tr>\n",
       "      <th>mean_platelet_vl</th>\n",
       "      <td>-0.100716</td>\n",
       "      <td>0.284809</td>\n",
       "      <td>0.248323</td>\n",
       "      <td>0.285169</td>\n",
       "      <td>0.038404</td>\n",
       "      <td>-0.189324</td>\n",
       "      <td>-0.329254</td>\n",
       "      <td>-0.036139</td>\n",
       "      <td>0.233941</td>\n",
       "      <td>1.000000</td>\n",
       "      <td>-0.055283</td>\n",
       "      <td>0.052658</td>\n",
       "      <td>0.037840</td>\n",
       "      <td>-0.118462</td>\n",
       "      <td>-0.021988</td>\n",
       "      <td>-0.058788</td>\n",
       "      <td>-0.112433</td>\n",
       "    </tr>\n",
       "    <tr>\n",
       "      <th>neutrophils_percent</th>\n",
       "      <td>0.093870</td>\n",
       "      <td>0.077574</td>\n",
       "      <td>0.162289</td>\n",
       "      <td>0.119252</td>\n",
       "      <td>0.094697</td>\n",
       "      <td>0.149581</td>\n",
       "      <td>0.110667</td>\n",
       "      <td>-0.056902</td>\n",
       "      <td>0.001142</td>\n",
       "      <td>-0.055283</td>\n",
       "      <td>1.000000</td>\n",
       "      <td>-0.981678</td>\n",
       "      <td>-0.557779</td>\n",
       "      <td>0.499188</td>\n",
       "      <td>-0.554208</td>\n",
       "      <td>-0.264797</td>\n",
       "      <td>-0.192329</td>\n",
       "    </tr>\n",
       "    <tr>\n",
       "      <th>lymphocytes_percent</th>\n",
       "      <td>-0.090940</td>\n",
       "      <td>-0.073216</td>\n",
       "      <td>-0.158665</td>\n",
       "      <td>-0.113198</td>\n",
       "      <td>-0.079596</td>\n",
       "      <td>-0.151628</td>\n",
       "      <td>-0.132823</td>\n",
       "      <td>0.042694</td>\n",
       "      <td>0.018399</td>\n",
       "      <td>0.052658</td>\n",
       "      <td>-0.981678</td>\n",
       "      <td>1.000000</td>\n",
       "      <td>0.389408</td>\n",
       "      <td>-0.487495</td>\n",
       "      <td>0.566632</td>\n",
       "      <td>0.164103</td>\n",
       "      <td>0.211099</td>\n",
       "    </tr>\n",
       "    <tr>\n",
       "      <th>mixed_cells_percent</th>\n",
       "      <td>-0.057664</td>\n",
       "      <td>-0.056070</td>\n",
       "      <td>-0.093352</td>\n",
       "      <td>-0.083365</td>\n",
       "      <td>-0.111013</td>\n",
       "      <td>-0.062552</td>\n",
       "      <td>0.043621</td>\n",
       "      <td>0.089093</td>\n",
       "      <td>-0.085652</td>\n",
       "      <td>0.037840</td>\n",
       "      <td>-0.557779</td>\n",
       "      <td>0.389408</td>\n",
       "      <td>1.000000</td>\n",
       "      <td>-0.289566</td>\n",
       "      <td>0.210764</td>\n",
       "      <td>0.565150</td>\n",
       "      <td>0.010148</td>\n",
       "    </tr>\n",
       "    <tr>\n",
       "      <th>neutrophils_count</th>\n",
       "      <td>0.876999</td>\n",
       "      <td>-0.134216</td>\n",
       "      <td>-0.153907</td>\n",
       "      <td>-0.152236</td>\n",
       "      <td>-0.080385</td>\n",
       "      <td>-0.011729</td>\n",
       "      <td>0.089524</td>\n",
       "      <td>0.102714</td>\n",
       "      <td>0.015390</td>\n",
       "      <td>-0.118462</td>\n",
       "      <td>0.499188</td>\n",
       "      <td>-0.487495</td>\n",
       "      <td>-0.289566</td>\n",
       "      <td>1.000000</td>\n",
       "      <td>0.263246</td>\n",
       "      <td>0.437362</td>\n",
       "      <td>0.115951</td>\n",
       "    </tr>\n",
       "    <tr>\n",
       "      <th>lymphocytes_count</th>\n",
       "      <td>0.689196</td>\n",
       "      <td>-0.233978</td>\n",
       "      <td>-0.338160</td>\n",
       "      <td>-0.294044</td>\n",
       "      <td>-0.168477</td>\n",
       "      <td>-0.152329</td>\n",
       "      <td>-0.016254</td>\n",
       "      <td>0.078041</td>\n",
       "      <td>0.037808</td>\n",
       "      <td>-0.021988</td>\n",
       "      <td>-0.554208</td>\n",
       "      <td>0.566632</td>\n",
       "      <td>0.210764</td>\n",
       "      <td>0.263246</td>\n",
       "      <td>1.000000</td>\n",
       "      <td>0.691170</td>\n",
       "      <td>0.348430</td>\n",
       "    </tr>\n",
       "    <tr>\n",
       "      <th>mixed_cells_count</th>\n",
       "      <td>0.715568</td>\n",
       "      <td>-0.200859</td>\n",
       "      <td>-0.273327</td>\n",
       "      <td>-0.253324</td>\n",
       "      <td>-0.199845</td>\n",
       "      <td>-0.106754</td>\n",
       "      <td>0.090089</td>\n",
       "      <td>0.143232</td>\n",
       "      <td>-0.045928</td>\n",
       "      <td>-0.058788</td>\n",
       "      <td>-0.264797</td>\n",
       "      <td>0.164103</td>\n",
       "      <td>0.565150</td>\n",
       "      <td>0.437362</td>\n",
       "      <td>0.691170</td>\n",
       "      <td>1.000000</td>\n",
       "      <td>0.191014</td>\n",
       "    </tr>\n",
       "    <tr>\n",
       "      <th>RBC_dist_width_Percent</th>\n",
       "      <td>0.252208</td>\n",
       "      <td>-0.364396</td>\n",
       "      <td>-0.562710</td>\n",
       "      <td>-0.510445</td>\n",
       "      <td>-0.413033</td>\n",
       "      <td>-0.334053</td>\n",
       "      <td>-0.013497</td>\n",
       "      <td>-0.104004</td>\n",
       "      <td>-0.087467</td>\n",
       "      <td>-0.112433</td>\n",
       "      <td>-0.192329</td>\n",
       "      <td>0.211099</td>\n",
       "      <td>0.010148</td>\n",
       "      <td>0.115951</td>\n",
       "      <td>0.348430</td>\n",
       "      <td>0.191014</td>\n",
       "      <td>1.000000</td>\n",
       "    </tr>\n",
       "  </tbody>\n",
       "</table>\n",
       "</div>"
      ],
      "text/plain": [
       "                        wbc_count  rbc_count  hb_level  hematocrit  \\\n",
       "wbc_count                1.000000  -0.217584 -0.283881   -0.261736   \n",
       "rbc_count               -0.217584   1.000000  0.896557    0.922294   \n",
       "hb_level                -0.283881   0.896557  1.000000    0.968644   \n",
       "hematocrit              -0.261736   0.922294  0.968644    1.000000   \n",
       "mean_cell_volume        -0.150900  -0.017848  0.286931    0.279029   \n",
       "mean_corp_hb            -0.084770  -0.348335  0.023659   -0.101461   \n",
       "mean_cell_hb_conc        0.066981  -0.497615 -0.302304   -0.479766   \n",
       "platelet_count           0.122330   0.409424  0.353828    0.387830   \n",
       "platelet_distr_width     0.022260   0.001756  0.068770    0.091718   \n",
       "mean_platelet_vl        -0.100716   0.284809  0.248323    0.285169   \n",
       "neutrophils_percent      0.093870   0.077574  0.162289    0.119252   \n",
       "lymphocytes_percent     -0.090940  -0.073216 -0.158665   -0.113198   \n",
       "mixed_cells_percent     -0.057664  -0.056070 -0.093352   -0.083365   \n",
       "neutrophils_count        0.876999  -0.134216 -0.153907   -0.152236   \n",
       "lymphocytes_count        0.689196  -0.233978 -0.338160   -0.294044   \n",
       "mixed_cells_count        0.715568  -0.200859 -0.273327   -0.253324   \n",
       "RBC_dist_width_Percent   0.252208  -0.364396 -0.562710   -0.510445   \n",
       "\n",
       "                        mean_cell_volume  mean_corp_hb  mean_cell_hb_conc  \\\n",
       "wbc_count                      -0.150900     -0.084770           0.066981   \n",
       "rbc_count                      -0.017848     -0.348335          -0.497615   \n",
       "hb_level                        0.286931      0.023659          -0.302304   \n",
       "hematocrit                      0.279029     -0.101461          -0.479766   \n",
       "mean_cell_volume                1.000000      0.722231          -0.077781   \n",
       "mean_corp_hb                    0.722231      1.000000           0.576017   \n",
       "mean_cell_hb_conc              -0.077781      0.576017           1.000000   \n",
       "platelet_count                 -0.002473     -0.202177          -0.310377   \n",
       "platelet_distr_width            0.268485      0.094658          -0.187634   \n",
       "mean_platelet_vl                0.038404     -0.189324          -0.329254   \n",
       "neutrophils_percent             0.094697      0.149581           0.110667   \n",
       "lymphocytes_percent            -0.079596     -0.151628          -0.132823   \n",
       "mixed_cells_percent            -0.111013     -0.062552           0.043621   \n",
       "neutrophils_count              -0.080385     -0.011729           0.089524   \n",
       "lymphocytes_count              -0.168477     -0.152329          -0.016254   \n",
       "mixed_cells_count              -0.199845     -0.106754           0.090089   \n",
       "RBC_dist_width_Percent         -0.413033     -0.334053          -0.013497   \n",
       "\n",
       "                        platelet_count  platelet_distr_width  \\\n",
       "wbc_count                     0.122330              0.022260   \n",
       "rbc_count                     0.409424              0.001756   \n",
       "hb_level                      0.353828              0.068770   \n",
       "hematocrit                    0.387830              0.091718   \n",
       "mean_cell_volume             -0.002473              0.268485   \n",
       "mean_corp_hb                 -0.202177              0.094658   \n",
       "mean_cell_hb_conc            -0.310377             -0.187634   \n",
       "platelet_count                1.000000              0.070121   \n",
       "platelet_distr_width          0.070121              1.000000   \n",
       "mean_platelet_vl             -0.036139              0.233941   \n",
       "neutrophils_percent          -0.056902              0.001142   \n",
       "lymphocytes_percent           0.042694              0.018399   \n",
       "mixed_cells_percent           0.089093             -0.085652   \n",
       "neutrophils_count             0.102714              0.015390   \n",
       "lymphocytes_count             0.078041              0.037808   \n",
       "mixed_cells_count             0.143232             -0.045928   \n",
       "RBC_dist_width_Percent       -0.104004             -0.087467   \n",
       "\n",
       "                        mean_platelet_vl  neutrophils_percent  \\\n",
       "wbc_count                      -0.100716             0.093870   \n",
       "rbc_count                       0.284809             0.077574   \n",
       "hb_level                        0.248323             0.162289   \n",
       "hematocrit                      0.285169             0.119252   \n",
       "mean_cell_volume                0.038404             0.094697   \n",
       "mean_corp_hb                   -0.189324             0.149581   \n",
       "mean_cell_hb_conc              -0.329254             0.110667   \n",
       "platelet_count                 -0.036139            -0.056902   \n",
       "platelet_distr_width            0.233941             0.001142   \n",
       "mean_platelet_vl                1.000000            -0.055283   \n",
       "neutrophils_percent            -0.055283             1.000000   \n",
       "lymphocytes_percent             0.052658            -0.981678   \n",
       "mixed_cells_percent             0.037840            -0.557779   \n",
       "neutrophils_count              -0.118462             0.499188   \n",
       "lymphocytes_count              -0.021988            -0.554208   \n",
       "mixed_cells_count              -0.058788            -0.264797   \n",
       "RBC_dist_width_Percent         -0.112433            -0.192329   \n",
       "\n",
       "                        lymphocytes_percent  mixed_cells_percent  \\\n",
       "wbc_count                         -0.090940            -0.057664   \n",
       "rbc_count                         -0.073216            -0.056070   \n",
       "hb_level                          -0.158665            -0.093352   \n",
       "hematocrit                        -0.113198            -0.083365   \n",
       "mean_cell_volume                  -0.079596            -0.111013   \n",
       "mean_corp_hb                      -0.151628            -0.062552   \n",
       "mean_cell_hb_conc                 -0.132823             0.043621   \n",
       "platelet_count                     0.042694             0.089093   \n",
       "platelet_distr_width               0.018399            -0.085652   \n",
       "mean_platelet_vl                   0.052658             0.037840   \n",
       "neutrophils_percent               -0.981678            -0.557779   \n",
       "lymphocytes_percent                1.000000             0.389408   \n",
       "mixed_cells_percent                0.389408             1.000000   \n",
       "neutrophils_count                 -0.487495            -0.289566   \n",
       "lymphocytes_count                  0.566632             0.210764   \n",
       "mixed_cells_count                  0.164103             0.565150   \n",
       "RBC_dist_width_Percent             0.211099             0.010148   \n",
       "\n",
       "                        neutrophils_count  lymphocytes_count  \\\n",
       "wbc_count                        0.876999           0.689196   \n",
       "rbc_count                       -0.134216          -0.233978   \n",
       "hb_level                        -0.153907          -0.338160   \n",
       "hematocrit                      -0.152236          -0.294044   \n",
       "mean_cell_volume                -0.080385          -0.168477   \n",
       "mean_corp_hb                    -0.011729          -0.152329   \n",
       "mean_cell_hb_conc                0.089524          -0.016254   \n",
       "platelet_count                   0.102714           0.078041   \n",
       "platelet_distr_width             0.015390           0.037808   \n",
       "mean_platelet_vl                -0.118462          -0.021988   \n",
       "neutrophils_percent              0.499188          -0.554208   \n",
       "lymphocytes_percent             -0.487495           0.566632   \n",
       "mixed_cells_percent             -0.289566           0.210764   \n",
       "neutrophils_count                1.000000           0.263246   \n",
       "lymphocytes_count                0.263246           1.000000   \n",
       "mixed_cells_count                0.437362           0.691170   \n",
       "RBC_dist_width_Percent           0.115951           0.348430   \n",
       "\n",
       "                        mixed_cells_count  RBC_dist_width_Percent  \n",
       "wbc_count                        0.715568                0.252208  \n",
       "rbc_count                       -0.200859               -0.364396  \n",
       "hb_level                        -0.273327               -0.562710  \n",
       "hematocrit                      -0.253324               -0.510445  \n",
       "mean_cell_volume                -0.199845               -0.413033  \n",
       "mean_corp_hb                    -0.106754               -0.334053  \n",
       "mean_cell_hb_conc                0.090089               -0.013497  \n",
       "platelet_count                   0.143232               -0.104004  \n",
       "platelet_distr_width            -0.045928               -0.087467  \n",
       "mean_platelet_vl                -0.058788               -0.112433  \n",
       "neutrophils_percent             -0.264797               -0.192329  \n",
       "lymphocytes_percent              0.164103                0.211099  \n",
       "mixed_cells_percent              0.565150                0.010148  \n",
       "neutrophils_count                0.437362                0.115951  \n",
       "lymphocytes_count                0.691170                0.348430  \n",
       "mixed_cells_count                1.000000                0.191014  \n",
       "RBC_dist_width_Percent           0.191014                1.000000  "
      ]
     },
     "execution_count": 197,
     "metadata": {},
     "output_type": "execute_result"
    }
   ],
   "source": [
    "#correlation\n",
    "subset.corr()"
   ]
  },
  {
   "cell_type": "code",
   "execution_count": 198,
   "metadata": {},
   "outputs": [
    {
     "data": {
      "text/plain": [
       "<AxesSubplot:>"
      ]
     },
     "execution_count": 198,
     "metadata": {},
     "output_type": "execute_result"
    },
    {
     "data": {
      "image/png": "[encoded data removed]",
      "text/plain": [
       "<Figure size 432x288 with 2 Axes>"
      ]
     },
     "metadata": {
      "needs_background": "light"
     },
     "output_type": "display_data"
    }
   ],
   "source": [
    "#visualize the correlation\n",
    "sns.heatmap(subset.corr(),cmap='coolwarm')"
   ]
  },
  {
   "cell_type": "code",
   "execution_count": 199,
   "metadata": {},
   "outputs": [],
   "source": [
    "###Data preprocessing\n",
    "#separate the labels from the features\n",
    "X=subset.iloc[:,1:] #features\n",
    "Y=subset.iloc[:,0] #class/labels"
   ]
  },
  {
   "cell_type": "code",
   "execution_count": 200,
   "metadata": {},
   "outputs": [
    {
     "data": {
      "text/plain": [
       "(2156, 17)"
      ]
     },
     "execution_count": 200,
     "metadata": {},
     "output_type": "execute_result"
    }
   ],
   "source": [
    "X.shape"
   ]
  },
  {
   "cell_type": "code",
   "execution_count": 201,
   "metadata": {},
   "outputs": [
    {
     "data": {
      "text/plain": [
       "(2156,)"
      ]
     },
     "execution_count": 201,
     "metadata": {},
     "output_type": "execute_result"
    }
   ],
   "source": [
    "Y.shape"
   ]
  },
  {
   "cell_type": "code",
   "execution_count": 202,
   "metadata": {},
   "outputs": [],
   "source": [
    "#encode labels because scikit requires it for supervised learning\n",
    "from sklearn.preprocessing import LabelEncoder\n",
    "label_encoder=LabelEncoder()\n",
    "label_encoder.fit(Y)\n",
    "y_encoded=label_encoder.transform(Y)"
   ]
  },
  {
   "cell_type": "code",
   "execution_count": 203,
   "metadata": {},
   "outputs": [
    {
     "data": {
      "text/plain": [
       "array([1, 1, 1, 1, 1])"
      ]
     },
     "execution_count": 203,
     "metadata": {},
     "output_type": "execute_result"
    }
   ],
   "source": [
    "y_encoded[0:5]"
   ]
  },
  {
   "cell_type": "code",
   "execution_count": 204,
   "metadata": {},
   "outputs": [
    {
     "data": {
      "text/plain": [
       "0    Severe Malaria\n",
       "1    Severe Malaria\n",
       "2    Severe Malaria\n",
       "3    Severe Malaria\n",
       "4    Severe Malaria\n",
       "Name: Clinical_Diagnosis, dtype: object"
      ]
     },
     "execution_count": 204,
     "metadata": {},
     "output_type": "execute_result"
    }
   ],
   "source": [
    "Y[0:5]"
   ]
  },
  {
   "cell_type": "code",
   "execution_count": 205,
   "metadata": {},
   "outputs": [
    {
     "name": "stdout",
     "output_type": "stream",
     "text": [
      "['Non-malaria Infection' 'Severe Malaria' 'Uncomplicated Malaria']\n"
     ]
    }
   ],
   "source": [
    "classes=label_encoder.classes_\n",
    "print(classes)"
   ]
  },
  {
   "cell_type": "code",
   "execution_count": 206,
   "metadata": {},
   "outputs": [],
   "source": [
    "#everything maps\n",
    "#split data into train and test subsets \n",
    "#ratio 80:20\n",
    "\n",
    "from sklearn.model_selection import train_test_split\n",
    "x_train,x_test,y_train,y_test=train_test_split(X,y_encoded,test_size=0.2)"
   ]
  },
  {
   "cell_type": "code",
   "execution_count": 207,
   "metadata": {},
   "outputs": [
    {
     "data": {
      "text/plain": [
       "(1724, 17)"
      ]
     },
     "execution_count": 207,
     "metadata": {},
     "output_type": "execute_result"
    }
   ],
   "source": [
    "x_train.shape"
   ]
  },
  {
   "cell_type": "code",
   "execution_count": 208,
   "metadata": {},
   "outputs": [
    {
     "data": {
      "text/plain": [
       "(1724,)"
      ]
     },
     "execution_count": 208,
     "metadata": {},
     "output_type": "execute_result"
    }
   ],
   "source": [
    "y_train.shape"
   ]
  },
  {
   "cell_type": "code",
   "execution_count": 209,
   "metadata": {},
   "outputs": [
    {
     "data": {
      "text/plain": [
       "(432, 17)"
      ]
     },
     "execution_count": 209,
     "metadata": {},
     "output_type": "execute_result"
    }
   ],
   "source": [
    "x_test.shape"
   ]
  },
  {
   "cell_type": "code",
   "execution_count": 210,
   "metadata": {},
   "outputs": [
    {
     "data": {
      "text/plain": [
       "(432,)"
      ]
     },
     "execution_count": 210,
     "metadata": {},
     "output_type": "execute_result"
    }
   ],
   "source": [
    "y_test.shape"
   ]
  },
  {
   "cell_type": "code",
   "execution_count": 211,
   "metadata": {},
   "outputs": [],
   "source": [
    "###Data standardization\n",
    "#scale the data so that the values are in the same range [0:1]"
   ]
  },
  {
   "cell_type": "code",
   "execution_count": 212,
   "metadata": {},
   "outputs": [],
   "source": [
    "from sklearn.preprocessing import MinMaxScaler\n",
    "min_max_scaler=MinMaxScaler()\n",
    "x_train_scaled=min_max_scaler.fit_transform(x_train)\n",
    "x_test_scaled=min_max_scaler.fit_transform(x_test)"
   ]
  },
  {
   "cell_type": "code",
   "execution_count": 213,
   "metadata": {},
   "outputs": [
    {
     "data": {
      "text/plain": [
       "0.3146067415730337"
      ]
     },
     "execution_count": 213,
     "metadata": {},
     "output_type": "execute_result"
    }
   ],
   "source": [
    "x_train_scaled[0,0]"
   ]
  },
  {
   "cell_type": "code",
   "execution_count": 214,
   "metadata": {},
   "outputs": [
    {
     "data": {
      "text/plain": [
       "17.3"
      ]
     },
     "execution_count": 214,
     "metadata": {},
     "output_type": "execute_result"
    }
   ],
   "source": [
    "x_train.iloc[0,0]"
   ]
  },
  {
   "cell_type": "code",
   "execution_count": 215,
   "metadata": {},
   "outputs": [
    {
     "data": {
      "text/html": [
       "<div>\n",
       "<style scoped>\n",
       "    .dataframe tbody tr th:only-of-type {\n",
       "        vertical-align: middle;\n",
       "    }\n",
       "\n",
       "    .dataframe tbody tr th {\n",
       "        vertical-align: top;\n",
       "    }\n",
       "\n",
       "    .dataframe thead th {\n",
       "        text-align: right;\n",
       "    }\n",
       "</style>\n",
       "<table border=\"1\" class=\"dataframe\">\n",
       "  <thead>\n",
       "    <tr style=\"text-align: right;\">\n",
       "      <th></th>\n",
       "      <th>wbc_count</th>\n",
       "      <th>rbc_count</th>\n",
       "      <th>hb_level</th>\n",
       "      <th>hematocrit</th>\n",
       "      <th>mean_cell_volume</th>\n",
       "      <th>mean_corp_hb</th>\n",
       "      <th>mean_cell_hb_conc</th>\n",
       "      <th>platelet_count</th>\n",
       "      <th>platelet_distr_width</th>\n",
       "      <th>mean_platelet_vl</th>\n",
       "      <th>neutrophils_percent</th>\n",
       "      <th>lymphocytes_percent</th>\n",
       "      <th>mixed_cells_percent</th>\n",
       "      <th>neutrophils_count</th>\n",
       "      <th>lymphocytes_count</th>\n",
       "      <th>mixed_cells_count</th>\n",
       "      <th>RBC_dist_width_Percent</th>\n",
       "    </tr>\n",
       "  </thead>\n",
       "  <tbody>\n",
       "    <tr>\n",
       "      <th>423</th>\n",
       "      <td>17.3</td>\n",
       "      <td>1.90</td>\n",
       "      <td>4.4</td>\n",
       "      <td>14.5</td>\n",
       "      <td>78.2</td>\n",
       "      <td>23.5</td>\n",
       "      <td>30.0</td>\n",
       "      <td>242.0</td>\n",
       "      <td>17.1</td>\n",
       "      <td>6.2</td>\n",
       "      <td>40.9</td>\n",
       "      <td>56.0</td>\n",
       "      <td>3.1</td>\n",
       "      <td>7.1</td>\n",
       "      <td>9.7</td>\n",
       "      <td>0.5</td>\n",
       "      <td>27.5</td>\n",
       "    </tr>\n",
       "    <tr>\n",
       "      <th>1842</th>\n",
       "      <td>8.3</td>\n",
       "      <td>3.75</td>\n",
       "      <td>10.1</td>\n",
       "      <td>30.5</td>\n",
       "      <td>81.0</td>\n",
       "      <td>27.0</td>\n",
       "      <td>33.2</td>\n",
       "      <td>169.0</td>\n",
       "      <td>14.4</td>\n",
       "      <td>7.6</td>\n",
       "      <td>87.0</td>\n",
       "      <td>10.3</td>\n",
       "      <td>2.7</td>\n",
       "      <td>7.3</td>\n",
       "      <td>0.8</td>\n",
       "      <td>0.2</td>\n",
       "      <td>15.0</td>\n",
       "    </tr>\n",
       "    <tr>\n",
       "      <th>1238</th>\n",
       "      <td>23.4</td>\n",
       "      <td>6.21</td>\n",
       "      <td>11.0</td>\n",
       "      <td>33.3</td>\n",
       "      <td>68.2</td>\n",
       "      <td>10.7</td>\n",
       "      <td>15.7</td>\n",
       "      <td>919.0</td>\n",
       "      <td>16.0</td>\n",
       "      <td>7.9</td>\n",
       "      <td>41.8</td>\n",
       "      <td>47.3</td>\n",
       "      <td>10.9</td>\n",
       "      <td>9.8</td>\n",
       "      <td>11.1</td>\n",
       "      <td>2.5</td>\n",
       "      <td>18.3</td>\n",
       "    </tr>\n",
       "    <tr>\n",
       "      <th>51</th>\n",
       "      <td>17.7</td>\n",
       "      <td>5.00</td>\n",
       "      <td>13.7</td>\n",
       "      <td>34.9</td>\n",
       "      <td>70.0</td>\n",
       "      <td>27.6</td>\n",
       "      <td>39.4</td>\n",
       "      <td>94.0</td>\n",
       "      <td>12.0</td>\n",
       "      <td>6.9</td>\n",
       "      <td>81.8</td>\n",
       "      <td>13.7</td>\n",
       "      <td>4.5</td>\n",
       "      <td>14.6</td>\n",
       "      <td>2.4</td>\n",
       "      <td>0.7</td>\n",
       "      <td>17.3</td>\n",
       "    </tr>\n",
       "    <tr>\n",
       "      <th>573</th>\n",
       "      <td>4.4</td>\n",
       "      <td>4.40</td>\n",
       "      <td>11.1</td>\n",
       "      <td>34.9</td>\n",
       "      <td>79.4</td>\n",
       "      <td>25.2</td>\n",
       "      <td>31.8</td>\n",
       "      <td>178.0</td>\n",
       "      <td>15.8</td>\n",
       "      <td>9.1</td>\n",
       "      <td>67.3</td>\n",
       "      <td>19.2</td>\n",
       "      <td>13.5</td>\n",
       "      <td>3.0</td>\n",
       "      <td>0.8</td>\n",
       "      <td>0.6</td>\n",
       "      <td>13.7</td>\n",
       "    </tr>\n",
       "  </tbody>\n",
       "</table>\n",
       "</div>"
      ],
      "text/plain": [
       "      wbc_count  rbc_count  hb_level  hematocrit  mean_cell_volume  \\\n",
       "423        17.3       1.90       4.4        14.5              78.2   \n",
       "1842        8.3       3.75      10.1        30.5              81.0   \n",
       "1238       23.4       6.21      11.0        33.3              68.2   \n",
       "51         17.7       5.00      13.7        34.9              70.0   \n",
       "573         4.4       4.40      11.1        34.9              79.4   \n",
       "\n",
       "      mean_corp_hb  mean_cell_hb_conc  platelet_count  platelet_distr_width  \\\n",
       "423           23.5               30.0           242.0                  17.1   \n",
       "1842          27.0               33.2           169.0                  14.4   \n",
       "1238          10.7               15.7           919.0                  16.0   \n",
       "51            27.6               39.4            94.0                  12.0   \n",
       "573           25.2               31.8           178.0                  15.8   \n",
       "\n",
       "      mean_platelet_vl  neutrophils_percent  lymphocytes_percent  \\\n",
       "423                6.2                 40.9                 56.0   \n",
       "1842               7.6                 87.0                 10.3   \n",
       "1238               7.9                 41.8                 47.3   \n",
       "51                 6.9                 81.8                 13.7   \n",
       "573                9.1                 67.3                 19.2   \n",
       "\n",
       "      mixed_cells_percent  neutrophils_count  lymphocytes_count  \\\n",
       "423                   3.1                7.1                9.7   \n",
       "1842                  2.7                7.3                0.8   \n",
       "1238                 10.9                9.8               11.1   \n",
       "51                    4.5               14.6                2.4   \n",
       "573                  13.5                3.0                0.8   \n",
       "\n",
       "      mixed_cells_count  RBC_dist_width_Percent  \n",
       "423                 0.5                    27.5  \n",
       "1842                0.2                    15.0  \n",
       "1238                2.5                    18.3  \n",
       "51                  0.7                    17.3  \n",
       "573                 0.6                    13.7  "
      ]
     },
     "execution_count": 215,
     "metadata": {},
     "output_type": "execute_result"
    }
   ],
   "source": [
    "x_train.head()"
   ]
  },
  {
   "cell_type": "code",
   "execution_count": 216,
   "metadata": {},
   "outputs": [],
   "source": [
    "#create random forest classifier "
   ]
  },
  {
   "cell_type": "code",
   "execution_count": 217,
   "metadata": {},
   "outputs": [
    {
     "data": {
      "text/plain": [
       "RandomForestClassifier()"
      ]
     },
     "execution_count": 217,
     "metadata": {},
     "output_type": "execute_result"
    }
   ],
   "source": [
    "from sklearn.ensemble import RandomForestClassifier\n",
    "clf=RandomForestClassifier()\n",
    "clf.fit(x_train_scaled,y_train)"
   ]
  },
  {
   "cell_type": "code",
   "execution_count": 218,
   "metadata": {},
   "outputs": [
    {
     "data": {
      "text/plain": [
       "'0.24.2'"
      ]
     },
     "execution_count": 218,
     "metadata": {},
     "output_type": "execute_result"
    }
   ],
   "source": [
    "import sklearn\n",
    "sklearn.__version__"
   ]
  },
  {
   "cell_type": "code",
   "execution_count": 219,
   "metadata": {},
   "outputs": [],
   "source": [
    "#Testing phase\n",
    "y_pred=clf.predict(x_test_scaled)"
   ]
  },
  {
   "cell_type": "code",
   "execution_count": 220,
   "metadata": {},
   "outputs": [
    {
     "data": {
      "text/plain": [
       "array([2, 2, 1, 0, 0, 1, 2, 0, 0, 1])"
      ]
     },
     "execution_count": 220,
     "metadata": {},
     "output_type": "execute_result"
    }
   ],
   "source": [
    "y_pred[0:10]"
   ]
  },
  {
   "cell_type": "code",
   "execution_count": 221,
   "metadata": {},
   "outputs": [
    {
     "data": {
      "text/plain": [
       "array([0, 0, 0, 2, 2, 2, 2, 0, 0, 2])"
      ]
     },
     "execution_count": 221,
     "metadata": {},
     "output_type": "execute_result"
    }
   ],
   "source": [
    "y_test[0:10]"
   ]
  },
  {
   "cell_type": "code",
   "execution_count": 222,
   "metadata": {},
   "outputs": [
    {
     "data": {
      "text/plain": [
       "array(['Non-malaria Infection', 'Severe Malaria', 'Uncomplicated Malaria'],\n",
       "      dtype=object)"
      ]
     },
     "execution_count": 222,
     "metadata": {},
     "output_type": "execute_result"
    }
   ],
   "source": [
    "classes"
   ]
  },
  {
   "cell_type": "code",
   "execution_count": 223,
   "metadata": {},
   "outputs": [],
   "source": [
    "#Evaluation\n",
    "# import the metrics"
   ]
  },
  {
   "cell_type": "code",
   "execution_count": 224,
   "metadata": {},
   "outputs": [],
   "source": [
    "from sklearn.metrics import balanced_accuracy_score,f1_score,precision_score,recall_score"
   ]
  },
  {
   "cell_type": "code",
   "execution_count": 225,
   "metadata": {},
   "outputs": [],
   "source": [
    "from sklearn.metrics import plot_confusion_matrix"
   ]
  },
  {
   "cell_type": "code",
   "execution_count": 226,
   "metadata": {},
   "outputs": [
    {
     "data": {
      "text/plain": [
       "'0.24.2'"
      ]
     },
     "execution_count": 226,
     "metadata": {},
     "output_type": "execute_result"
    }
   ],
   "source": [
    "import sklearn\n",
    "sklearn.__version__"
   ]
  },
  {
   "cell_type": "code",
   "execution_count": 227,
   "metadata": {},
   "outputs": [
    {
     "name": "stdout",
     "output_type": "stream",
     "text": [
      "balanced accuracy: 0.74\n"
     ]
    }
   ],
   "source": [
    "#balanced accuracy\n",
    "balanced_accuracy=balanced_accuracy_score(y_test,y_pred)\n",
    "balanced_accuracy=round(balanced_accuracy,2)\n",
    "print('balanced accuracy:',balanced_accuracy)"
   ]
  },
  {
   "cell_type": "code",
   "execution_count": 228,
   "metadata": {},
   "outputs": [
    {
     "name": "stdout",
     "output_type": "stream",
     "text": [
      "f1score: 0.71\n"
     ]
    }
   ],
   "source": [
    "#f1score\n",
    "f1score=f1_score(y_test,y_pred,average='weighted')\n",
    "f1score=round(f1score,2)\n",
    "print('f1score:',f1score)"
   ]
  },
  {
   "cell_type": "code",
   "execution_count": 229,
   "metadata": {},
   "outputs": [
    {
     "name": "stdout",
     "output_type": "stream",
     "text": [
      "precision: 0.72\n"
     ]
    }
   ],
   "source": [
    "#precision \n",
    "precision=precision_score(y_test,y_pred,average='weighted')\n",
    "precision=round(precision,2)\n",
    "print('precision:',precision)"
   ]
  },
  {
   "cell_type": "code",
   "execution_count": 230,
   "metadata": {},
   "outputs": [
    {
     "name": "stdout",
     "output_type": "stream",
     "text": [
      "recall: 0.73\n"
     ]
    }
   ],
   "source": [
    "#recall\n",
    "recall=recall_score(y_test,y_pred,average='weighted')\n",
    "recall=round(recall,2)\n",
    "print('recall:',recall)"
   ]
  },
  {
   "cell_type": "code",
   "execution_count": 231,
   "metadata": {},
   "outputs": [
    {
     "data": {
      "image/png": "[encoded data removed]",
      "text/plain": [
       "<Figure size 432x288 with 2 Axes>"
      ]
     },
     "metadata": {
      "needs_background": "light"
     },
     "output_type": "display_data"
    }
   ],
   "source": [
    "#confusion matrix\n",
    "disp=plot_confusion_matrix(clf,x_test_scaled,y_test,xticks_rotation='vertical',\n",
    "                     cmap='Blues',display_labels=classes)"
   ]
  },
  {
   "cell_type": "code",
   "execution_count": null,
   "metadata": {},
   "outputs": [],
   "source": []
  }
 ],
 "metadata": {
  "kernelspec": {
   "display_name": "Python 3 (ipykernel)",
   "language": "python",
   "name": "python3"
  },
  "language_info": {
   "codemirror_mode": {
    "name": "ipython",
    "version": 3
   },
   "file_extension": ".py",
   "mimetype": "text/x-python",
   "name": "python",
   "nbconvert_exporter": "python",
   "pygments_lexer": "ipython3",
   "version": "3.7.3"
  }
 },
 "nbformat": 4,
 "nbformat_minor": 4
}
