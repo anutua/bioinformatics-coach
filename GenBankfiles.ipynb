{
 "cells": [
  {
   "cell_type": "code",
   "execution_count": 1,
   "metadata": {},
   "outputs": [],
   "source": [
    "from Bio import SeqIO"
   ]
  },
  {
   "cell_type": "code",
   "execution_count": 91,
   "metadata": {},
   "outputs": [],
   "source": [
    "filepath=\"D:/Anutua/Documents/waccbip/mycrobacterium.gb\""
   ]
  },
  {
   "cell_type": "code",
   "execution_count": 92,
   "metadata": {},
   "outputs": [],
   "source": [
    "record_object=SeqIO.read(filepath,\"gb\")"
   ]
  },
  {
   "cell_type": "code",
   "execution_count": 93,
   "metadata": {},
   "outputs": [
    {
     "name": "stdout",
     "output_type": "stream",
     "text": [
      "ID: CP000325.1\n",
      "Name: CP000325\n",
      "Description: Mycobacterium ulcerans Agy99, complete genome\n",
      "Database cross-references: BioProject:PRJNA16230, BioSample:SAMN02603346\n",
      "Number of features: 9644\n",
      "/molecule_type=DNA\n",
      "/topology=circular\n",
      "/data_file_division=BCT\n",
      "/date=30-JAN-2014\n",
      "/accessions=['CP000325']\n",
      "/sequence_version=1\n",
      "/keywords=['']\n",
      "/source=Mycobacterium ulcerans Agy99\n",
      "/organism=Mycobacterium ulcerans Agy99\n",
      "/taxonomy=['Bacteria', 'Actinobacteria', 'Corynebacteriales', 'Mycobacteriaceae', 'Mycobacterium']\n",
      "/references=[Reference(title='Reductive evolution and niche adaptation inferred from the genome of Mycobacterium ulcerans, the causative agent of Buruli ulcer', ...), Reference(title='Direct Submission', ...)]\n",
      "/comment=Source DNA is available from Dr Tim Stinear, Department\n",
      "Microbiology, Monash University, Melbourne, Australia,\n",
      "tim.stinear@med.monash.edu.au; Bacteria are available from Dr Janet\n",
      "Fyfe, Mycobacterial Reference Laboratory, Victorian Infectious\n",
      "Diseases Reference Laboratory, Melbourne, Australia,\n",
      "Janet.Fyfe@mh.org.au.\n",
      "UnknownSeq(5631606, alphabet=IUPACAmbiguousDNA(), character='N')\n"
     ]
    }
   ],
   "source": [
    "print(record_object)"
   ]
  },
  {
   "cell_type": "code",
   "execution_count": 94,
   "metadata": {},
   "outputs": [
    {
     "name": "stdout",
     "output_type": "stream",
     "text": [
      "CP000325.1\n",
      "CP000325\n"
     ]
    }
   ],
   "source": [
    "print(record_object.id)\n",
    "print(record_object.name)\n"
   ]
  },
  {
   "cell_type": "code",
   "execution_count": 95,
   "metadata": {},
   "outputs": [
    {
     "name": "stdout",
     "output_type": "stream",
     "text": [
      "Mycobacterium ulcerans Agy99, complete genome\n"
     ]
    }
   ],
   "source": [
    "description=record_object.description\n",
    "annotations=record_object.annotations\n",
    "print(description)"
   ]
  },
  {
   "cell_type": "code",
   "execution_count": 102,
   "metadata": {},
   "outputs": [
    {
     "name": "stdout",
     "output_type": "stream",
     "text": [
      "<class 'list'>\n",
      "type: source\n",
      "location: [0:5631606](+)\n",
      "qualifiers:\n",
      "    Key: collection_date, Value: ['Jul-1999']\n",
      "    Key: country, Value: ['Ghana:Ga district']\n",
      "    Key: db_xref, Value: ['taxon:362242']\n",
      "    Key: isolation_source, Value: ['human tissue biopsy']\n",
      "    Key: mol_type, Value: ['genomic DNA']\n",
      "    Key: organism, Value: ['Mycobacterium ulcerans Agy99']\n",
      "    Key: strain, Value: ['Agy99']\n",
      "\n",
      "source\n",
      "source\n"
     ]
    }
   ],
   "source": [
    "# features=record_object.features\n",
    "# print(type(features))\n",
    "# #print(features)\n",
    "\n",
    "# print(features[0])\n",
    "\n",
    "# type(features[0])\n",
    "\n",
    "# featuretypes=[ feature.type for feature in features]\n",
    "\n",
    "# type(featuretypes)\n",
    "\n",
    "# print(featuretypes[0])\n",
    "\n",
    "# #featuretypes=set(featuretypes)\n",
    "\n",
    "# type(featuretypes)\n",
    "\n",
    "# print(featuretypes[0])"
   ]
  },
  {
   "cell_type": "code",
   "execution_count": 103,
   "metadata": {},
   "outputs": [
    {
     "data": {
      "text/plain": [
       "5631606"
      ]
     },
     "execution_count": 103,
     "metadata": {},
     "output_type": "execute_result"
    }
   ],
   "source": [
    "record_seq=record_object.seq\n",
    "len(record_seq)"
   ]
  },
  {
   "cell_type": "code",
   "execution_count": 113,
   "metadata": {},
   "outputs": [],
   "source": [
    "features=record_object.features\n",
    "feature_types=[ feature.type for feature in features ]"
   ]
  },
  {
   "cell_type": "code",
   "execution_count": 114,
   "metadata": {},
   "outputs": [
    {
     "data": {
      "text/plain": [
       "list"
      ]
     },
     "execution_count": 114,
     "metadata": {},
     "output_type": "execute_result"
    }
   ],
   "source": [
    "type(feature_types)"
   ]
  },
  {
   "cell_type": "code",
   "execution_count": 115,
   "metadata": {},
   "outputs": [
    {
     "data": {
      "text/plain": [
       "9644"
      ]
     },
     "execution_count": 115,
     "metadata": {},
     "output_type": "execute_result"
    }
   ],
   "source": [
    "len(feature_types)"
   ]
  },
  {
   "cell_type": "code",
   "execution_count": 116,
   "metadata": {},
   "outputs": [],
   "source": [
    "feature_types =set(feature_types)\n",
    "feature_types=list(feature_types)"
   ]
  },
  {
   "cell_type": "code",
   "execution_count": 117,
   "metadata": {},
   "outputs": [
    {
     "data": {
      "text/plain": [
       "9"
      ]
     },
     "execution_count": 117,
     "metadata": {},
     "output_type": "execute_result"
    }
   ],
   "source": [
    "len(feature_types)"
   ]
  },
  {
   "cell_type": "code",
   "execution_count": 118,
   "metadata": {},
   "outputs": [
    {
     "name": "stdout",
     "output_type": "stream",
     "text": [
      "['CDS', 'gene', 'mobile_element', 'source', 'rRNA', 'repeat_region', 'misc_RNA', 'misc_feature', 'tRNA']\n"
     ]
    }
   ],
   "source": [
    "print(feature_types)"
   ]
  },
  {
   "cell_type": "code",
   "execution_count": null,
   "metadata": {},
   "outputs": [],
   "source": []
  },
  {
   "cell_type": "code",
   "execution_count": 122,
   "metadata": {},
   "outputs": [],
   "source": [
    "##extract multiple gene sequences from genbank files \n"
   ]
  },
  {
   "cell_type": "code",
   "execution_count": 123,
   "metadata": {},
   "outputs": [],
   "source": [
    "sakaifilepath=\"D:/Anutua/Documents/waccbip/sakai.gb\""
   ]
  },
  {
   "cell_type": "code",
   "execution_count": 124,
   "metadata": {},
   "outputs": [],
   "source": [
    "genelistpath=\"D:/Anutua/Documents/waccbip/genelist.txt\""
   ]
  },
  {
   "cell_type": "code",
   "execution_count": 228,
   "metadata": {},
   "outputs": [],
   "source": [
    "input_file=open(genelistpath,'r') \n",
    "gene_names=[line.strip(\"\\n\") for line in input_file]"
   ]
  },
  {
   "cell_type": "code",
   "execution_count": 229,
   "metadata": {},
   "outputs": [
    {
     "data": {
      "text/plain": [
       "list"
      ]
     },
     "execution_count": 229,
     "metadata": {},
     "output_type": "execute_result"
    }
   ],
   "source": [
    "type(gene_names)"
   ]
  },
  {
   "cell_type": "code",
   "execution_count": 230,
   "metadata": {},
   "outputs": [
    {
     "name": "stdout",
     "output_type": "stream",
     "text": [
      "['eae', 'ecpA', 'ecpB', 'ecpC', 'ecpD', 'ecpE', 'ecpR', 'paa', 'lpfA', 'lpfB', 'ler', 'escS', 'escT', 'escU', 'cesD', 'escC', 'escJ', 'escV', 'escN', 'tir', 'eae', 'escD', 'sepL', 'espA', 'espD', 'espB', 'escF', 'espF']\n"
     ]
    }
   ],
   "source": [
    "print(gene_names)"
   ]
  },
  {
   "cell_type": "code",
   "execution_count": 231,
   "metadata": {},
   "outputs": [
    {
     "data": {
      "text/plain": [
       "_io.TextIOWrapper"
      ]
     },
     "execution_count": 231,
     "metadata": {},
     "output_type": "execute_result"
    }
   ],
   "source": [
    "type(input_file)"
   ]
  },
  {
   "cell_type": "code",
   "execution_count": 232,
   "metadata": {},
   "outputs": [
    {
     "data": {
      "text/plain": [
       "28"
      ]
     },
     "execution_count": 232,
     "metadata": {},
     "output_type": "execute_result"
    }
   ],
   "source": [
    "len(gene_names)"
   ]
  },
  {
   "cell_type": "code",
   "execution_count": 233,
   "metadata": {},
   "outputs": [],
   "source": [
    "gb_oject=SeqIO.read(sakaifilepath,'gb')"
   ]
  },
  {
   "cell_type": "code",
   "execution_count": 234,
   "metadata": {},
   "outputs": [],
   "source": [
    "all_genes=[feature for feature in gb_oject.features if feature.type==\"gene\"]"
   ]
  },
  {
   "cell_type": "code",
   "execution_count": 235,
   "metadata": {},
   "outputs": [
    {
     "data": {
      "text/plain": [
       "5329"
      ]
     },
     "execution_count": 235,
     "metadata": {},
     "output_type": "execute_result"
    }
   ],
   "source": [
    "len(all_genes)"
   ]
  },
  {
   "cell_type": "code",
   "execution_count": 236,
   "metadata": {},
   "outputs": [
    {
     "data": {
      "text/plain": [
       "5329"
      ]
     },
     "execution_count": 236,
     "metadata": {},
     "output_type": "execute_result"
    }
   ],
   "source": [
    "len(set(all_genes))"
   ]
  },
  {
   "cell_type": "code",
   "execution_count": 243,
   "metadata": {},
   "outputs": [
    {
     "data": {
      "text/plain": [
       "5"
      ]
     },
     "execution_count": 243,
     "metadata": {},
     "output_type": "execute_result"
    }
   ],
   "source": [
    "gene_names=gene_names[0:5]\n",
    "len(gene_names)"
   ]
  },
  {
   "cell_type": "code",
   "execution_count": 244,
   "metadata": {},
   "outputs": [],
   "source": [
    "gene_sequences=[]"
   ]
  },
  {
   "cell_type": "code",
   "execution_count": null,
   "metadata": {},
   "outputs": [],
   "source": []
  },
  {
   "cell_type": "code",
   "execution_count": 245,
   "metadata": {},
   "outputs": [
    {
     "name": "stdout",
     "output_type": "stream",
     "text": [
      "ecpD has been found\n",
      "ecpC has been found\n",
      "ecpB has been found\n",
      "ecpA has been found\n",
      "eae has been found\n"
     ]
    }
   ],
   "source": [
    "#extraction\n",
    "for gene in all_genes:\n",
    "    if 'gene' in gene.qualifiers.keys():\n",
    "        gene_name=gene.qualifiers['gene'][0]       \n",
    "        if gene_name in gene_names:\n",
    "            extracted=gene.extract(gb_oject)\n",
    "            extracted.id=gene_name\n",
    "            extracted.description=''\n",
    "            gene_sequences.append(extracted)\n",
    "            print(\"%s has been found\"%gene_name)"
   ]
  },
  {
   "cell_type": "code",
   "execution_count": 246,
   "metadata": {},
   "outputs": [
    {
     "data": {
      "text/plain": [
       "odict_keys(['gene', 'locus_tag', 'db_xref'])"
      ]
     },
     "execution_count": 246,
     "metadata": {},
     "output_type": "execute_result"
    }
   ],
   "source": [
    "all_genes[0].qualifiers.keys()"
   ]
  },
  {
   "cell_type": "code",
   "execution_count": 247,
   "metadata": {},
   "outputs": [
    {
     "data": {
      "text/plain": [
       "['thrC']"
      ]
     },
     "execution_count": 247,
     "metadata": {},
     "output_type": "execute_result"
    }
   ],
   "source": [
    "all_genes[3].qualifiers['gene']"
   ]
  },
  {
   "cell_type": "code",
   "execution_count": 248,
   "metadata": {},
   "outputs": [
    {
     "data": {
      "text/plain": [
       "5"
      ]
     },
     "execution_count": 248,
     "metadata": {},
     "output_type": "execute_result"
    }
   ],
   "source": [
    "len(gene_sequences)"
   ]
  },
  {
   "cell_type": "code",
   "execution_count": 249,
   "metadata": {},
   "outputs": [
    {
     "name": "stdout",
     "output_type": "stream",
     "text": [
      "[SeqRecord(seq=Seq('ATGAGAGTTAACCTACTGATAGCGATGATAATCTTTGCGCTAATCTGGCCAGTA...TAA', IUPACAmbiguousDNA()), id='ecpD', name='<unknown name>', description='', dbxrefs=[]), SeqRecord(seq=Seq('ATGCCTTTACGACGGTTCTCCCCAGGACTGAAAGCCCAGTTTGCCTTCGGCATG...TAA', IUPACAmbiguousDNA()), id='ecpC', name='<unknown name>', description='', dbxrefs=[]), SeqRecord(seq=Seq('ATGAAAAAGCACCTTCTGCTTCTCGCTCTGCTGTTATCCGGAATATCTCCGGCC...TAG', IUPACAmbiguousDNA()), id='ecpB', name='<unknown name>', description='', dbxrefs=[]), SeqRecord(seq=Seq('ATGAAAAAAAAGGTTCTGGCAATAGCTCTGGTAACGGTGTTTACCGGCATGGGT...TAA', IUPACAmbiguousDNA()), id='ecpA', name='<unknown name>', description='', dbxrefs=[]), SeqRecord(seq=Seq('ATGATTACTCATGGTTGTTATACCCGGACCCGGCACAAGCATAAGCTAAAAAAA...TAA', IUPACAmbiguousDNA()), id='eae', name='<unknown name>', description='', dbxrefs=[])]\n"
     ]
    }
   ],
   "source": [
    "print(gene_sequences)"
   ]
  },
  {
   "cell_type": "code",
   "execution_count": 250,
   "metadata": {},
   "outputs": [
    {
     "data": {
      "text/plain": [
       "5"
      ]
     },
     "execution_count": 250,
     "metadata": {},
     "output_type": "execute_result"
    }
   ],
   "source": [
    "#save to outputfile\n",
    "extractedpath=\"D:/Anutua/Documents/waccbip/vir_factors.fasta\"\n",
    "SeqIO.write(gene_sequences,extractedpath,'fasta')"
   ]
  },
  {
   "cell_type": "code",
   "execution_count": null,
   "metadata": {},
   "outputs": [],
   "source": []
  }
 ],
 "metadata": {
  "kernelspec": {
   "display_name": "Python 3 (ipykernel)",
   "language": "python",
   "name": "python3"
  },
  "language_info": {
   "codemirror_mode": {
    "name": "ipython",
    "version": 3
   },
   "file_extension": ".py",
   "mimetype": "text/x-python",
   "name": "python",
   "nbconvert_exporter": "python",
   "pygments_lexer": "ipython3",
   "version": "3.7.3"
  }
 },
 "nbformat": 4,
 "nbformat_minor": 4
}
